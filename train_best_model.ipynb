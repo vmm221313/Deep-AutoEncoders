{
  "nbformat": 4,
  "nbformat_minor": 0,
  "metadata": {
    "colab": {
      "name": "train_best_model.ipynb",
      "provenance": []
    },
    "kernelspec": {
      "name": "python3",
      "display_name": "Python 3"
    },
    "accelerator": "GPU"
  },
  "cells": [
    {
      "cell_type": "code",
      "metadata": {
        "id": "s2O6Bf0Ghe_s",
        "colab_type": "code",
        "outputId": "0ac37fd0-0360-42ef-fb2c-9705abaf4cb7",
        "colab": {
          "base_uri": "https://localhost:8080/",
          "height": 332
        }
      },
      "source": [
        "!pip install corner"
      ],
      "execution_count": 1,
      "outputs": [
        {
          "output_type": "stream",
          "text": [
            "Collecting corner\n",
            "  Downloading https://files.pythonhosted.org/packages/65/af/a7ba022f2d5787f51db91b5550cbe8e8c40a6eebd8f15119e743a09a9c19/corner-2.0.1.tar.gz\n",
            "Requirement already satisfied: numpy in /usr/local/lib/python3.6/dist-packages (from corner) (1.17.5)\n",
            "Requirement already satisfied: matplotlib in /usr/local/lib/python3.6/dist-packages (from corner) (3.1.3)\n",
            "Requirement already satisfied: pyparsing!=2.0.4,!=2.1.2,!=2.1.6,>=2.0.1 in /usr/local/lib/python3.6/dist-packages (from matplotlib->corner) (2.4.6)\n",
            "Requirement already satisfied: cycler>=0.10 in /usr/local/lib/python3.6/dist-packages (from matplotlib->corner) (0.10.0)\n",
            "Requirement already satisfied: kiwisolver>=1.0.1 in /usr/local/lib/python3.6/dist-packages (from matplotlib->corner) (1.1.0)\n",
            "Requirement already satisfied: python-dateutil>=2.1 in /usr/local/lib/python3.6/dist-packages (from matplotlib->corner) (2.6.1)\n",
            "Requirement already satisfied: six in /usr/local/lib/python3.6/dist-packages (from cycler>=0.10->matplotlib->corner) (1.12.0)\n",
            "Requirement already satisfied: setuptools in /usr/local/lib/python3.6/dist-packages (from kiwisolver>=1.0.1->matplotlib->corner) (45.2.0)\n",
            "Building wheels for collected packages: corner\n",
            "  Building wheel for corner (setup.py) ... \u001b[?25l\u001b[?25hdone\n",
            "  Created wheel for corner: filename=corner-2.0.1-cp36-none-any.whl size=11642 sha256=6110ae10b42f082074e4cf42149bf20e970bc40360c8ed8fec75d943af03abcc\n",
            "  Stored in directory: /root/.cache/pip/wheels/70/d8/e5/e0e7974a2a5757483ea5a180c937041cf6872dc9993d78234a\n",
            "Successfully built corner\n",
            "Installing collected packages: corner\n",
            "Successfully installed corner-2.0.1\n"
          ],
          "name": "stdout"
        }
      ]
    },
    {
      "cell_type": "code",
      "metadata": {
        "id": "59WvCH72gVTU",
        "colab_type": "code",
        "outputId": "9a653421-a4cc-4418-9f66-97a35a1b8875",
        "colab": {
          "base_uri": "https://localhost:8080/",
          "height": 124
        }
      },
      "source": [
        "from google.colab import drive\n",
        "drive.mount('/content/drive', force_remount=True)"
      ],
      "execution_count": 2,
      "outputs": [
        {
          "output_type": "stream",
          "text": [
            "Go to this URL in a browser: https://accounts.google.com/o/oauth2/auth?client_id=947318989803-6bn6qk8qdgf4n4g3pfee6491hc0brc4i.apps.googleusercontent.com&redirect_uri=urn%3aietf%3awg%3aoauth%3a2.0%3aoob&response_type=code&scope=email%20https%3a%2f%2fwww.googleapis.com%2fauth%2fdocs.test%20https%3a%2f%2fwww.googleapis.com%2fauth%2fdrive%20https%3a%2f%2fwww.googleapis.com%2fauth%2fdrive.photos.readonly%20https%3a%2f%2fwww.googleapis.com%2fauth%2fpeopleapi.readonly\n",
            "\n",
            "Enter your authorization code:\n",
            "··········\n",
            "Mounted at /content/drive\n"
          ],
          "name": "stdout"
        }
      ]
    },
    {
      "cell_type": "code",
      "metadata": {
        "id": "hMXn0dfMry6D",
        "colab_type": "code",
        "outputId": "814f50f6-bf7b-4339-f95a-d2c9329472dc",
        "colab": {
          "base_uri": "https://localhost:8080/",
          "height": 52
        }
      },
      "source": [
        "cd drive/My\\ Drive/Projects/DeepAE"
      ],
      "execution_count": 11,
      "outputs": [
        {
          "output_type": "stream",
          "text": [
            "[Errno 2] No such file or directory: 'drive/My Drive/Projects/DeepAE'\n",
            "/content/drive/My Drive/Projects/DeepAE\n"
          ],
          "name": "stdout"
        }
      ]
    },
    {
      "cell_type": "code",
      "metadata": {
        "id": "Hi86EUfjhU_L",
        "colab_type": "code",
        "outputId": "afaa418a-e9c2-4619-cc27-b0181e8f78b1",
        "colab": {
          "base_uri": "https://localhost:8080/",
          "height": 156
        }
      },
      "source": [
        "ls"
      ],
      "execution_count": 4,
      "outputs": [
        {
          "output_type": "stream",
          "text": [
            "\u001b[0m\u001b[01;34m4D_vae\u001b[0m/                 nn_utils.py                   reproduce_results.ipynb\n",
            "custom_models.py        plot_activation_functions.py  reproduce_results.py\n",
            "find_best_model.py      \u001b[01;34mplots\u001b[0m/                        results.csv\n",
            "InfoVAE.py              \u001b[01;34mprocessed_data\u001b[0m/               tune_model.ipynb\n",
            "\u001b[01;34mmodels\u001b[0m/                 \u001b[01;34m__pycache__\u001b[0m/                  tune_model.py\n",
            "my_matplotlib_rcparams  README.md                     utils.py\n",
            "my_matplotlib_style.py  relu_vs_tanh.ipynb            vae.ipynb\n",
            "my_utils.py             relu_vs_tanh.py               vae.py\n"
          ],
          "name": "stdout"
        }
      ]
    },
    {
      "cell_type": "code",
      "metadata": {
        "id": "y-If2qfVMZR8",
        "colab_type": "code",
        "colab": {}
      },
      "source": [
        "import os\n",
        "import utils\n",
        "import numpy as np\n",
        "import pandas as pd\n",
        "import seaborn as sns\n",
        "from scipy import stats\n",
        "import corner.corner as corner\n",
        "import matplotlib.pyplot as plt"
      ],
      "execution_count": 0,
      "outputs": []
    },
    {
      "cell_type": "code",
      "metadata": {
        "id": "ia0FLl1AMiE3",
        "colab_type": "code",
        "colab": {}
      },
      "source": [
        "import torch\n",
        "import torch.nn as nn\n",
        "import torch.optim as optim\n",
        "import torch.utils.data\n",
        "from torch.utils.data import TensorDataset\n",
        "from torch.utils.data import DataLoader"
      ],
      "execution_count": 0,
      "outputs": []
    },
    {
      "cell_type": "code",
      "metadata": {
        "id": "FYLS6r3xMnWE",
        "colab_type": "code",
        "colab": {}
      },
      "source": [
        "import fastai\n",
        "from fastai import train as tr \n",
        "from fastai.callbacks import ActivationStats\n",
        "from fastai import data_block, basic_train, basic_data"
      ],
      "execution_count": 0,
      "outputs": []
    },
    {
      "cell_type": "code",
      "metadata": {
        "id": "ElCW84xDMvVy",
        "colab_type": "code",
        "colab": {}
      },
      "source": [
        "import matplotlib as mpl\n",
        "import my_matplotlib_style as ms\n",
        "mpl.rc_file('my_matplotlib_rcparams')"
      ],
      "execution_count": 0,
      "outputs": []
    },
    {
      "cell_type": "code",
      "metadata": {
        "id": "cRoX306tMzFs",
        "colab_type": "code",
        "colab": {}
      },
      "source": [
        "from utils import plot_activations"
      ],
      "execution_count": 0,
      "outputs": []
    },
    {
      "cell_type": "code",
      "metadata": {
        "id": "anI8qsopM3-T",
        "colab_type": "code",
        "colab": {}
      },
      "source": [
        "if torch.cuda.is_available():\n",
        "  fastai.torch_core.defaults.device = 'cuda'"
      ],
      "execution_count": 0,
      "outputs": []
    },
    {
      "cell_type": "code",
      "metadata": {
        "id": "2d8Y01ctCXOo",
        "colab_type": "code",
        "colab": {}
      },
      "source": [
        "from my_utils import load_data, make_plots, train_evaluate_model"
      ],
      "execution_count": 0,
      "outputs": []
    },
    {
      "cell_type": "code",
      "metadata": {
        "id": "1FXegx-oybyw",
        "colab_type": "code",
        "colab": {}
      },
      "source": [
        "class AE_3D_500cone_bn_custom(nn.Module):\n",
        "    def __init__(self, hidden_dim_1, hidden_dim_2, hidden_dim_3, n_features=4):\n",
        "        super(AE_3D_500cone_bn_custom, self).__init__()\n",
        "        self.en1 = nn.Linear(n_features, hidden_dim_1)\n",
        "        self.bn1 = nn.BatchNorm1d(hidden_dim_1)\n",
        "        self.en2 = nn.Linear(hidden_dim_1,  hidden_dim_2)\n",
        "        self.bn2 = nn.BatchNorm1d(hidden_dim_2)\n",
        "        self.en3 = nn.Linear(hidden_dim_2, hidden_dim_3)\n",
        "        self.bn3 = nn.BatchNorm1d(hidden_dim_3)\n",
        "        self.en4 = nn.Linear(hidden_dim_3, 3)\n",
        "        self.bn5 = nn.BatchNorm1d(3)\n",
        "        self.de1 = nn.Linear(3, hidden_dim_3)\n",
        "        self.bn6 = nn.BatchNorm1d(hidden_dim_3)\n",
        "        self.de2 = nn.Linear(hidden_dim_3, hidden_dim_2)\n",
        "        self.bn7 = nn.BatchNorm1d(hidden_dim_2)\n",
        "        self.de3 = nn.Linear(hidden_dim_2, hidden_dim_1)\n",
        "        self.bn8 = nn.BatchNorm1d(hidden_dim_1)\n",
        "        self.de4 = nn.Linear(hidden_dim_1, n_features)\n",
        "        self.tanh = nn.Tanh()\n",
        "\n",
        "    def encode(self, x):\n",
        "        h1 = self.bn1(self.tanh(self.en1(x)))\n",
        "        h2 = self.bn2(self.tanh(self.en2(h1)))\n",
        "        h3 = self.bn3(self.tanh(self.en3(h2)))\n",
        "        z = self.en4(h3)\n",
        "        return z\n",
        "\n",
        "    def decode(self, x):\n",
        "        h5 = self.bn6(self.tanh(self.de1(self.bn5(self.tanh(x)))))\n",
        "        h6 = self.bn7(self.tanh(self.de2(h5)))\n",
        "        h7 = self.bn8(self.tanh(self.de3(h6)))\n",
        "        return self.de4(h7)\n",
        "\n",
        "    def forward(self, x):\n",
        "        z = self.encode(x)\n",
        "        return self.decode(z)\n",
        "\n",
        "    def describe(self):\n",
        "        pass"
      ],
      "execution_count": 0,
      "outputs": []
    },
    {
      "cell_type": "code",
      "metadata": {
        "id": "JpZ2021FiiVh",
        "colab_type": "code",
        "colab": {}
      },
      "source": [
        "num_epochs = 1000\n",
        "hidden_dim_1 = 200 #Optimized using Grid Search. See tune_model.py\n",
        "hidden_dim_2 = 300\n",
        "hidden_dim_3 = 200\n",
        "learning_rate = 3e-4"
      ],
      "execution_count": 0,
      "outputs": []
    },
    {
      "cell_type": "code",
      "metadata": {
        "id": "Cb7Q2Y_rbY3f",
        "colab_type": "code",
        "outputId": "1fcc74a6-0498-4bb2-c3dd-4a5c6434722f",
        "colab": {
          "base_uri": "https://localhost:8080/",
          "height": 219
        }
      },
      "source": [
        "model = AE_3D_500cone_bn_custom(hidden_dim_1, hidden_dim_2, hidden_dim_3)\n",
        "model_name = 'AE_3D_500cone_bn_custom'\n",
        "loss = train_evaluate_model(model, model_name, num_epochs, learning_rate, hidden_dim_1, hidden_dim_2, hidden_dim_3)\n",
        "loss "
      ],
      "execution_count": 0,
      "outputs": [
        {
          "output_type": "display_data",
          "data": {
            "text/html": [
              "\n",
              "    <div>\n",
              "        <style>\n",
              "            /* Turns off some styling */\n",
              "            progress {\n",
              "                /* gets rid of default border in Firefox and Opera. */\n",
              "                border: none;\n",
              "                /* Needs to be in here for Safari polyfill so background images work as expected. */\n",
              "                background-size: auto;\n",
              "            }\n",
              "            .progress-bar-interrupted, .progress-bar-interrupted::-webkit-progress-bar {\n",
              "                background: #F44336;\n",
              "            }\n",
              "        </style>\n",
              "      <progress value='4' class='' max='1000', style='width:300px; height:20px; vertical-align: middle;'></progress>\n",
              "      0.40% [4/1000 00:28<1:56:40]\n",
              "    </div>\n",
              "    \n",
              "<table border=\"1\" class=\"dataframe\">\n",
              "  <thead>\n",
              "    <tr style=\"text-align: left;\">\n",
              "      <th>epoch</th>\n",
              "      <th>train_loss</th>\n",
              "      <th>valid_loss</th>\n",
              "      <th>time</th>\n",
              "    </tr>\n",
              "  </thead>\n",
              "  <tbody>\n",
              "    <tr>\n",
              "      <td>0</td>\n",
              "      <td>0.048909</td>\n",
              "      <td>0.072411</td>\n",
              "      <td>00:07</td>\n",
              "    </tr>\n",
              "    <tr>\n",
              "      <td>1</td>\n",
              "      <td>0.038579</td>\n",
              "      <td>0.034792</td>\n",
              "      <td>00:06</td>\n",
              "    </tr>\n",
              "    <tr>\n",
              "      <td>2</td>\n",
              "      <td>0.035496</td>\n",
              "      <td>0.035403</td>\n",
              "      <td>00:06</td>\n",
              "    </tr>\n",
              "    <tr>\n",
              "      <td>3</td>\n",
              "      <td>0.033533</td>\n",
              "      <td>0.033856</td>\n",
              "      <td>00:06</td>\n",
              "    </tr>\n",
              "  </tbody>\n",
              "</table><p>\n",
              "\n",
              "    <div>\n",
              "        <style>\n",
              "            /* Turns off some styling */\n",
              "            progress {\n",
              "                /* gets rid of default border in Firefox and Opera. */\n",
              "                border: none;\n",
              "                /* Needs to be in here for Safari polyfill so background images work as expected. */\n",
              "                background-size: auto;\n",
              "            }\n",
              "            .progress-bar-interrupted, .progress-bar-interrupted::-webkit-progress-bar {\n",
              "                background: #F44336;\n",
              "            }\n",
              "        </style>\n",
              "      <progress value='265' class='' max='437', style='width:300px; height:20px; vertical-align: middle;'></progress>\n",
              "      60.64% [265/437 00:03<00:02 0.0328]\n",
              "    </div>\n",
              "    "
            ],
            "text/plain": [
              "<IPython.core.display.HTML object>"
            ]
          },
          "metadata": {
            "tags": []
          }
        }
      ]
    },
    {
      "cell_type": "code",
      "metadata": {
        "id": "XV57WueIzxPE",
        "colab_type": "code",
        "colab": {}
      },
      "source": [
        ""
      ],
      "execution_count": 0,
      "outputs": []
    }
  ]
}