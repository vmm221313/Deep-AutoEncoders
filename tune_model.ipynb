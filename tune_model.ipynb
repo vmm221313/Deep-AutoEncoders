{
  "nbformat": 4,
  "nbformat_minor": 0,
  "metadata": {
    "colab": {
      "name": "tune_model.ipynb",
      "provenance": [],
      "collapsed_sections": []
    },
    "kernelspec": {
      "name": "python3",
      "display_name": "Python 3"
    },
    "accelerator": "GPU"
  },
  "cells": [
    {
      "cell_type": "code",
      "metadata": {
        "id": "d23dwmyggZqp",
        "colab_type": "code",
        "outputId": "b12749a0-0edd-4dce-ff9f-d49d16d1efc6",
        "colab": {
          "base_uri": "https://localhost:8080/",
          "height": 188
        }
      },
      "source": [
        "!pip install corner"
      ],
      "execution_count": 0,
      "outputs": [
        {
          "output_type": "stream",
          "text": [
            "Requirement already satisfied: corner in /usr/local/lib/python3.6/dist-packages (2.0.1)\n",
            "Requirement already satisfied: numpy in /usr/local/lib/python3.6/dist-packages (from corner) (1.17.5)\n",
            "Requirement already satisfied: matplotlib in /usr/local/lib/python3.6/dist-packages (from corner) (3.1.3)\n",
            "Requirement already satisfied: kiwisolver>=1.0.1 in /usr/local/lib/python3.6/dist-packages (from matplotlib->corner) (1.1.0)\n",
            "Requirement already satisfied: pyparsing!=2.0.4,!=2.1.2,!=2.1.6,>=2.0.1 in /usr/local/lib/python3.6/dist-packages (from matplotlib->corner) (2.4.6)\n",
            "Requirement already satisfied: cycler>=0.10 in /usr/local/lib/python3.6/dist-packages (from matplotlib->corner) (0.10.0)\n",
            "Requirement already satisfied: python-dateutil>=2.1 in /usr/local/lib/python3.6/dist-packages (from matplotlib->corner) (2.6.1)\n",
            "Requirement already satisfied: setuptools in /usr/local/lib/python3.6/dist-packages (from kiwisolver>=1.0.1->matplotlib->corner) (45.2.0)\n",
            "Requirement already satisfied: six in /usr/local/lib/python3.6/dist-packages (from cycler>=0.10->matplotlib->corner) (1.12.0)\n"
          ],
          "name": "stdout"
        }
      ]
    },
    {
      "cell_type": "code",
      "metadata": {
        "id": "YtC53ZJw6PgI",
        "colab_type": "code",
        "outputId": "913433b9-f270-4fa4-f5fb-7dde84ebb62f",
        "colab": {
          "base_uri": "https://localhost:8080/",
          "height": 34
        }
      },
      "source": [
        "from google.colab import drive\n",
        "drive.mount('/content/drive', force_remount=True)"
      ],
      "execution_count": 0,
      "outputs": [
        {
          "output_type": "stream",
          "text": [
            "Mounted at /content/drive\n"
          ],
          "name": "stdout"
        }
      ]
    },
    {
      "cell_type": "code",
      "metadata": {
        "id": "L13mATUe6uMX",
        "colab_type": "code",
        "outputId": "16f6f4a7-ad5a-41fa-8c6e-673c162a15bb",
        "colab": {
          "base_uri": "https://localhost:8080/",
          "height": 34
        }
      },
      "source": [
        "cd drive/My\\ Drive/Projects/Autoencoder_1"
      ],
      "execution_count": 0,
      "outputs": [
        {
          "output_type": "stream",
          "text": [
            "/content/drive/My Drive/Projects/Autoencoder_1\n"
          ],
          "name": "stdout"
        }
      ]
    },
    {
      "cell_type": "code",
      "metadata": {
        "id": "VTLfjf2MmdoG",
        "colab_type": "code",
        "outputId": "8ef8db0c-7db2-4bc3-efc8-d3ddc021e3e6",
        "colab": {
          "base_uri": "https://localhost:8080/",
          "height": 101
        }
      },
      "source": [
        "ls"
      ],
      "execution_count": 0,
      "outputs": [
        {
          "output_type": "stream",
          "text": [
            "find_best_model.py      nn_utils.py                   README.md\n",
            "\u001b[0m\u001b[01;34mmodels\u001b[0m/                 plot_activation_functions.py  results.csv\n",
            "my_matplotlib_rcparams  \u001b[01;34mplots\u001b[0m/                        run_model.py\n",
            "my_matplotlib_style.py  \u001b[01;34mprocessed_data\u001b[0m/               utils.py\n",
            "my_utils.py             \u001b[01;34m__pycache__\u001b[0m/\n"
          ],
          "name": "stdout"
        }
      ]
    },
    {
      "cell_type": "code",
      "metadata": {
        "id": "wL-jzaJIiqGT",
        "colab_type": "code",
        "colab": {}
      },
      "source": [
        "import os\n",
        "import utils\n",
        "import numpy as np\n",
        "import pandas as pd\n",
        "import seaborn as sns\n",
        "from tqdm import tqdm\n",
        "from scipy import stats\n",
        "from tqdm import tqdm_notebook\n",
        "import corner.corner as corner\n",
        "import matplotlib.pyplot as plt\n",
        "from hyperopt import fmin, tpe, hp, STATUS_OK"
      ],
      "execution_count": 0,
      "outputs": []
    },
    {
      "cell_type": "code",
      "metadata": {
        "id": "yRQvl3mdiPb_",
        "colab_type": "code",
        "colab": {}
      },
      "source": [
        "import torch\n",
        "import torch.nn as nn\n",
        "import torch.optim as optim\n",
        "import torch.utils.data\n",
        "from torch.utils.data import TensorDataset\n",
        "from torch.utils.data import DataLoader"
      ],
      "execution_count": 0,
      "outputs": []
    },
    {
      "cell_type": "code",
      "metadata": {
        "id": "fXjgGcgyO2cg",
        "colab_type": "code",
        "colab": {}
      },
      "source": [
        "import fastai\n",
        "from fastai import train as tr \n",
        "from fastai.callbacks import ActivationStats\n",
        "from fastai import data_block, basic_train, basic_data"
      ],
      "execution_count": 0,
      "outputs": []
    },
    {
      "cell_type": "code",
      "metadata": {
        "id": "U6vFHim26PdQ",
        "colab_type": "code",
        "colab": {}
      },
      "source": [
        "from my_utils import make_plots, load_data, train_evaluate_model\n",
        "from utils import plot_activations"
      ],
      "execution_count": 0,
      "outputs": []
    },
    {
      "cell_type": "code",
      "metadata": {
        "id": "TGeIuzi4OyC3",
        "colab_type": "code",
        "colab": {}
      },
      "source": [
        "if torch.cuda.is_available():\n",
        "    fastai.torch_core.defaults.device = 'cuda'"
      ],
      "execution_count": 0,
      "outputs": []
    },
    {
      "cell_type": "code",
      "metadata": {
        "id": "dwGsrh4qO6wb",
        "colab_type": "code",
        "colab": {}
      },
      "source": [
        "class AE_3D_200_custom(nn.Module):\n",
        "    def __init__(self, hidden_dim_1, hidden_dim_2, hidden_dim_3, n_features=4):\n",
        "        super(AE_3D_200_custom, self).__init__()\n",
        "        self.en1 = nn.Linear(n_features, hidden_dim_1)\n",
        "        self.en2 = nn.Linear(hidden_dim_1, hidden_dim_2)\n",
        "        self.en3 = nn.Linear(hidden_dim_2, hidden_dim_3)\n",
        "        self.en4 = nn.Linear(hidden_dim_3, 3)\n",
        "        self.de1 = nn.Linear(3, hidden_dim_3)\n",
        "        self.de2 = nn.Linear(hidden_dim_3, hidden_dim_2)\n",
        "        self.de3 = nn.Linear(hidden_dim_2, hidden_dim_1)\n",
        "        self.de4 = nn.Linear(hidden_dim_1, n_features)\n",
        "        self.relu = nn.ReLU()\n",
        "\n",
        "    def encode(self, x):\n",
        "        return self.en4(self.relu(self.en3(self.relu(self.en2(self.relu(self.en1(x)))))))\n",
        "\n",
        "    def decode(self, x):\n",
        "        return self.de4(self.relu(self.de3(self.relu(self.de2(self.relu(self.de1(self.relu(x))))))))\n",
        "\n",
        "    def forward(self, x):\n",
        "        z = self.encode(x)\n",
        "        return self.decode(z)\n",
        "\n",
        "    def describe(self):\n",
        "        return 'in-' + str(hidden_dim_1) + '-' + str(hidden_dim_2) + '-' + str(hidden_dim_3) + '-' +'3-' + str(hidden_dim_3) + '-' + str(hidden_dim_2) + '-' + str(hidden_dim_1) + '-out'"
      ],
      "execution_count": 0,
      "outputs": []
    },
    {
      "cell_type": "code",
      "metadata": {
        "id": "H1voKrfib3Ow",
        "colab_type": "code",
        "colab": {}
      },
      "source": [
        "global best_loss\n",
        "best_loss = 10000"
      ],
      "execution_count": 0,
      "outputs": []
    },
    {
      "cell_type": "code",
      "metadata": {
        "id": "2j70fOPIAnbh",
        "colab_type": "code",
        "colab": {}
      },
      "source": [
        "def gridSearch(space):\n",
        "        global best_hidden_dim_1, best_hidden_dim_2, best_hidden_dim_3, best_loss\n",
        "        hidden_dim_1 = int(space['hidden_dim_1'])\n",
        "        hidden_dim_2 = int(space['hidden_dim_2'])\n",
        "        hidden_dim_3 = int(space['hidden_dim_3'])\n",
        "\n",
        "        model = AE_3D_200_custom(hidden_dim_1, hidden_dim_2, hidden_dim_3)\n",
        "        model_name = 'AE_3D_200_custom'\n",
        "        num_epochs = 50\n",
        "        learning_rate = 3e-4\n",
        "        loss = train_evaluate_model(model, model_name, num_epochs, learning_rate, hidden_dim_1, hidden_dim_2, hidden_dim_3)\n",
        "\n",
        "        if (loss < best_loss):\n",
        "            best_loss = loss\n",
        "            best_hidden_dim_1 = hidden_dim_1\n",
        "            best_hidden_dim_2 = hidden_dim_2\n",
        "            best_hidden_dim_3 = hidden_dim_3\n",
        "            print('best_loss = {}'.format(best_loss))\n",
        "            print('best_hidden_dim_1 = {}'.format(hidden_dim_1))\n",
        "            print('best_hidden_dim_2 = {}'.format(hidden_dim_2))\n",
        "            print('best_hidden_dim_3 = {}'.format(hidden_dim_3))\n",
        "\n",
        "        return {'loss': loss, 'status': STATUS_OK }"
      ],
      "execution_count": 0,
      "outputs": []
    },
    {
      "cell_type": "code",
      "metadata": {
        "id": "5qetrevOPX7X",
        "colab_type": "code",
        "outputId": "40662c1e-ead9-4113-8380-2b18c5fffb0e",
        "colab": {
          "base_uri": "https://localhost:8080/"
        }
      },
      "source": [
        "space = {\n",
        "'hidden_dim_1': hp.quniform('hidden_dim_1', 50, 200, 50),\n",
        "'hidden_dim_2': hp.quniform('hidden_dim_2', 100, 400, 100),\n",
        "'hidden_dim_3': hp.quniform('hidden_dim_3', 50, 200, 50),    \n",
        "}\n",
        "\n",
        "best_scores = fmin(fn=gridSearch, space=space, algo=tpe.suggest, max_evals=100)"
      ],
      "execution_count": 0,
      "outputs": [
        {
          "output_type": "stream",
          "text": [
            "\r  0%|          | 0/100 [00:00<?, ?it/s, best loss: ?]"
          ],
          "name": "stdout"
        },
        {
          "output_type": "display_data",
          "data": {
            "text/html": [
              "<table border=\"1\" class=\"dataframe\">\n",
              "  <thead>\n",
              "    <tr style=\"text-align: left;\">\n",
              "      <th>epoch</th>\n",
              "      <th>train_loss</th>\n",
              "      <th>valid_loss</th>\n",
              "      <th>time</th>\n",
              "    </tr>\n",
              "  </thead>\n",
              "  <tbody>\n",
              "    <tr>\n",
              "      <td>0</td>\n",
              "      <td>0.028870</td>\n",
              "      <td>0.028819</td>\n",
              "      <td>00:03</td>\n",
              "    </tr>\n",
              "    <tr>\n",
              "      <td>1</td>\n",
              "      <td>0.026430</td>\n",
              "      <td>0.027304</td>\n",
              "      <td>00:03</td>\n",
              "    </tr>\n",
              "    <tr>\n",
              "      <td>2</td>\n",
              "      <td>0.024298</td>\n",
              "      <td>0.025768</td>\n",
              "      <td>00:03</td>\n",
              "    </tr>\n",
              "    <tr>\n",
              "      <td>3</td>\n",
              "      <td>0.023960</td>\n",
              "      <td>0.024803</td>\n",
              "      <td>00:03</td>\n",
              "    </tr>\n",
              "    <tr>\n",
              "      <td>4</td>\n",
              "      <td>0.022365</td>\n",
              "      <td>0.021657</td>\n",
              "      <td>00:04</td>\n",
              "    </tr>\n",
              "    <tr>\n",
              "      <td>5</td>\n",
              "      <td>0.020623</td>\n",
              "      <td>0.020401</td>\n",
              "      <td>00:04</td>\n",
              "    </tr>\n",
              "    <tr>\n",
              "      <td>6</td>\n",
              "      <td>0.019990</td>\n",
              "      <td>0.019797</td>\n",
              "      <td>00:03</td>\n",
              "    </tr>\n",
              "    <tr>\n",
              "      <td>7</td>\n",
              "      <td>0.018621</td>\n",
              "      <td>0.020108</td>\n",
              "      <td>00:03</td>\n",
              "    </tr>\n",
              "    <tr>\n",
              "      <td>8</td>\n",
              "      <td>0.017999</td>\n",
              "      <td>0.018309</td>\n",
              "      <td>00:03</td>\n",
              "    </tr>\n",
              "    <tr>\n",
              "      <td>9</td>\n",
              "      <td>0.017799</td>\n",
              "      <td>0.017952</td>\n",
              "      <td>00:04</td>\n",
              "    </tr>\n",
              "    <tr>\n",
              "      <td>10</td>\n",
              "      <td>0.017309</td>\n",
              "      <td>0.017601</td>\n",
              "      <td>00:03</td>\n",
              "    </tr>\n",
              "    <tr>\n",
              "      <td>11</td>\n",
              "      <td>0.017389</td>\n",
              "      <td>0.016340</td>\n",
              "      <td>00:03</td>\n",
              "    </tr>\n",
              "    <tr>\n",
              "      <td>12</td>\n",
              "      <td>0.015705</td>\n",
              "      <td>0.016048</td>\n",
              "      <td>00:04</td>\n",
              "    </tr>\n",
              "    <tr>\n",
              "      <td>13</td>\n",
              "      <td>0.016352</td>\n",
              "      <td>0.016048</td>\n",
              "      <td>00:04</td>\n",
              "    </tr>\n",
              "    <tr>\n",
              "      <td>14</td>\n",
              "      <td>0.015576</td>\n",
              "      <td>0.015067</td>\n",
              "      <td>00:03</td>\n",
              "    </tr>\n",
              "    <tr>\n",
              "      <td>15</td>\n",
              "      <td>0.014517</td>\n",
              "      <td>0.015485</td>\n",
              "      <td>00:04</td>\n",
              "    </tr>\n",
              "    <tr>\n",
              "      <td>16</td>\n",
              "      <td>0.015221</td>\n",
              "      <td>0.015491</td>\n",
              "      <td>00:03</td>\n",
              "    </tr>\n",
              "    <tr>\n",
              "      <td>17</td>\n",
              "      <td>0.014143</td>\n",
              "      <td>0.014682</td>\n",
              "      <td>00:04</td>\n",
              "    </tr>\n",
              "    <tr>\n",
              "      <td>18</td>\n",
              "      <td>0.014330</td>\n",
              "      <td>0.014229</td>\n",
              "      <td>00:04</td>\n",
              "    </tr>\n",
              "    <tr>\n",
              "      <td>19</td>\n",
              "      <td>0.014117</td>\n",
              "      <td>0.013979</td>\n",
              "      <td>00:03</td>\n",
              "    </tr>\n",
              "    <tr>\n",
              "      <td>20</td>\n",
              "      <td>0.014049</td>\n",
              "      <td>0.013996</td>\n",
              "      <td>00:04</td>\n",
              "    </tr>\n",
              "    <tr>\n",
              "      <td>21</td>\n",
              "      <td>0.014234</td>\n",
              "      <td>0.013754</td>\n",
              "      <td>00:04</td>\n",
              "    </tr>\n",
              "    <tr>\n",
              "      <td>22</td>\n",
              "      <td>0.012955</td>\n",
              "      <td>0.014234</td>\n",
              "      <td>00:03</td>\n",
              "    </tr>\n",
              "    <tr>\n",
              "      <td>23</td>\n",
              "      <td>0.013493</td>\n",
              "      <td>0.013687</td>\n",
              "      <td>00:04</td>\n",
              "    </tr>\n",
              "    <tr>\n",
              "      <td>24</td>\n",
              "      <td>0.013435</td>\n",
              "      <td>0.013299</td>\n",
              "      <td>00:03</td>\n",
              "    </tr>\n",
              "    <tr>\n",
              "      <td>25</td>\n",
              "      <td>0.012869</td>\n",
              "      <td>0.013258</td>\n",
              "      <td>00:04</td>\n",
              "    </tr>\n",
              "    <tr>\n",
              "      <td>26</td>\n",
              "      <td>0.012961</td>\n",
              "      <td>0.012723</td>\n",
              "      <td>00:04</td>\n",
              "    </tr>\n",
              "    <tr>\n",
              "      <td>27</td>\n",
              "      <td>0.012511</td>\n",
              "      <td>0.013180</td>\n",
              "      <td>00:03</td>\n",
              "    </tr>\n",
              "    <tr>\n",
              "      <td>28</td>\n",
              "      <td>0.012927</td>\n",
              "      <td>0.012564</td>\n",
              "      <td>00:04</td>\n",
              "    </tr>\n",
              "    <tr>\n",
              "      <td>29</td>\n",
              "      <td>0.012300</td>\n",
              "      <td>0.012662</td>\n",
              "      <td>00:03</td>\n",
              "    </tr>\n",
              "    <tr>\n",
              "      <td>30</td>\n",
              "      <td>0.012457</td>\n",
              "      <td>0.012353</td>\n",
              "      <td>00:04</td>\n",
              "    </tr>\n",
              "    <tr>\n",
              "      <td>31</td>\n",
              "      <td>0.012235</td>\n",
              "      <td>0.012003</td>\n",
              "      <td>00:04</td>\n",
              "    </tr>\n",
              "    <tr>\n",
              "      <td>32</td>\n",
              "      <td>0.011715</td>\n",
              "      <td>0.011664</td>\n",
              "      <td>00:04</td>\n",
              "    </tr>\n",
              "    <tr>\n",
              "      <td>33</td>\n",
              "      <td>0.012185</td>\n",
              "      <td>0.012138</td>\n",
              "      <td>00:04</td>\n",
              "    </tr>\n",
              "    <tr>\n",
              "      <td>34</td>\n",
              "      <td>0.011585</td>\n",
              "      <td>0.011563</td>\n",
              "      <td>00:03</td>\n",
              "    </tr>\n",
              "    <tr>\n",
              "      <td>35</td>\n",
              "      <td>0.011391</td>\n",
              "      <td>0.011463</td>\n",
              "      <td>00:04</td>\n",
              "    </tr>\n",
              "    <tr>\n",
              "      <td>36</td>\n",
              "      <td>0.010939</td>\n",
              "      <td>0.011499</td>\n",
              "      <td>00:03</td>\n",
              "    </tr>\n",
              "    <tr>\n",
              "      <td>37</td>\n",
              "      <td>0.011584</td>\n",
              "      <td>0.011347</td>\n",
              "      <td>00:04</td>\n",
              "    </tr>\n",
              "    <tr>\n",
              "      <td>38</td>\n",
              "      <td>0.011707</td>\n",
              "      <td>0.011665</td>\n",
              "      <td>00:03</td>\n",
              "    </tr>\n",
              "    <tr>\n",
              "      <td>39</td>\n",
              "      <td>0.011002</td>\n",
              "      <td>0.011001</td>\n",
              "      <td>00:04</td>\n",
              "    </tr>\n",
              "    <tr>\n",
              "      <td>40</td>\n",
              "      <td>0.011114</td>\n",
              "      <td>0.011740</td>\n",
              "      <td>00:04</td>\n",
              "    </tr>\n",
              "    <tr>\n",
              "      <td>41</td>\n",
              "      <td>0.010488</td>\n",
              "      <td>0.011076</td>\n",
              "      <td>00:03</td>\n",
              "    </tr>\n",
              "    <tr>\n",
              "      <td>42</td>\n",
              "      <td>0.010454</td>\n",
              "      <td>0.010916</td>\n",
              "      <td>00:04</td>\n",
              "    </tr>\n",
              "    <tr>\n",
              "      <td>43</td>\n",
              "      <td>0.010665</td>\n",
              "      <td>0.010831</td>\n",
              "      <td>00:03</td>\n",
              "    </tr>\n",
              "    <tr>\n",
              "      <td>44</td>\n",
              "      <td>0.010334</td>\n",
              "      <td>0.010502</td>\n",
              "      <td>00:04</td>\n",
              "    </tr>\n",
              "    <tr>\n",
              "      <td>45</td>\n",
              "      <td>0.010481</td>\n",
              "      <td>0.010647</td>\n",
              "      <td>00:03</td>\n",
              "    </tr>\n",
              "    <tr>\n",
              "      <td>46</td>\n",
              "      <td>0.010697</td>\n",
              "      <td>0.010596</td>\n",
              "      <td>00:04</td>\n",
              "    </tr>\n",
              "    <tr>\n",
              "      <td>47</td>\n",
              "      <td>0.010277</td>\n",
              "      <td>0.010672</td>\n",
              "      <td>00:04</td>\n",
              "    </tr>\n",
              "    <tr>\n",
              "      <td>48</td>\n",
              "      <td>0.010133</td>\n",
              "      <td>0.010110</td>\n",
              "      <td>00:03</td>\n",
              "    </tr>\n",
              "    <tr>\n",
              "      <td>49</td>\n",
              "      <td>0.010236</td>\n",
              "      <td>0.010315</td>\n",
              "      <td>00:03</td>\n",
              "    </tr>\n",
              "  </tbody>\n",
              "</table>"
            ],
            "text/plain": [
              "<IPython.core.display.HTML object>"
            ]
          },
          "metadata": {
            "tags": []
          }
        },
        {
          "output_type": "display_data",
          "data": {
            "text/html": [
              ""
            ],
            "text/plain": [
              "<IPython.core.display.HTML object>"
            ]
          },
          "metadata": {
            "tags": []
          }
        },
        {
          "output_type": "stream",
          "text": [
            "best_loss = 0.010315189138054848\n",
            "best_hidden_dim_1 = 150\n",
            "best_hidden_dim_2 = 300\n",
            "best_hidden_dim_3 = 50\n",
            "  1%|          | 1/100 [03:31<5:49:23, 211.75s/it, best loss: 0.010315189138054848]"
          ],
          "name": "stdout"
        },
        {
          "output_type": "display_data",
          "data": {
            "text/html": [
              "\n",
              "    <div>\n",
              "        <style>\n",
              "            /* Turns off some styling */\n",
              "            progress {\n",
              "                /* gets rid of default border in Firefox and Opera. */\n",
              "                border: none;\n",
              "                /* Needs to be in here for Safari polyfill so background images work as expected. */\n",
              "                background-size: auto;\n",
              "            }\n",
              "            .progress-bar-interrupted, .progress-bar-interrupted::-webkit-progress-bar {\n",
              "                background: #F44336;\n",
              "            }\n",
              "        </style>\n",
              "      <progress value='15' class='' max='50', style='width:300px; height:20px; vertical-align: middle;'></progress>\n",
              "      30.00% [15/50 01:00<02:22]\n",
              "    </div>\n",
              "    \n",
              "<table border=\"1\" class=\"dataframe\">\n",
              "  <thead>\n",
              "    <tr style=\"text-align: left;\">\n",
              "      <th>epoch</th>\n",
              "      <th>train_loss</th>\n",
              "      <th>valid_loss</th>\n",
              "      <th>time</th>\n",
              "    </tr>\n",
              "  </thead>\n",
              "  <tbody>\n",
              "    <tr>\n",
              "      <td>0</td>\n",
              "      <td>0.123886</td>\n",
              "      <td>0.120292</td>\n",
              "      <td>00:04</td>\n",
              "    </tr>\n",
              "    <tr>\n",
              "      <td>1</td>\n",
              "      <td>0.099298</td>\n",
              "      <td>0.097623</td>\n",
              "      <td>00:04</td>\n",
              "    </tr>\n",
              "    <tr>\n",
              "      <td>2</td>\n",
              "      <td>0.088118</td>\n",
              "      <td>0.085800</td>\n",
              "      <td>00:04</td>\n",
              "    </tr>\n",
              "    <tr>\n",
              "      <td>3</td>\n",
              "      <td>0.078471</td>\n",
              "      <td>0.078627</td>\n",
              "      <td>00:04</td>\n",
              "    </tr>\n",
              "    <tr>\n",
              "      <td>4</td>\n",
              "      <td>0.073561</td>\n",
              "      <td>0.075776</td>\n",
              "      <td>00:04</td>\n",
              "    </tr>\n",
              "    <tr>\n",
              "      <td>5</td>\n",
              "      <td>0.072635</td>\n",
              "      <td>0.070906</td>\n",
              "      <td>00:04</td>\n",
              "    </tr>\n",
              "    <tr>\n",
              "      <td>6</td>\n",
              "      <td>0.067961</td>\n",
              "      <td>0.068355</td>\n",
              "      <td>00:04</td>\n",
              "    </tr>\n",
              "    <tr>\n",
              "      <td>7</td>\n",
              "      <td>0.067781</td>\n",
              "      <td>0.067425</td>\n",
              "      <td>00:03</td>\n",
              "    </tr>\n",
              "    <tr>\n",
              "      <td>8</td>\n",
              "      <td>0.066094</td>\n",
              "      <td>0.064923</td>\n",
              "      <td>00:04</td>\n",
              "    </tr>\n",
              "    <tr>\n",
              "      <td>9</td>\n",
              "      <td>0.064377</td>\n",
              "      <td>0.068415</td>\n",
              "      <td>00:04</td>\n",
              "    </tr>\n",
              "    <tr>\n",
              "      <td>10</td>\n",
              "      <td>0.062294</td>\n",
              "      <td>0.063223</td>\n",
              "      <td>00:03</td>\n",
              "    </tr>\n",
              "    <tr>\n",
              "      <td>11</td>\n",
              "      <td>0.059738</td>\n",
              "      <td>0.061002</td>\n",
              "      <td>00:04</td>\n",
              "    </tr>\n",
              "    <tr>\n",
              "      <td>12</td>\n",
              "      <td>0.060194</td>\n",
              "      <td>0.060679</td>\n",
              "      <td>00:04</td>\n",
              "    </tr>\n",
              "    <tr>\n",
              "      <td>13</td>\n",
              "      <td>0.059487</td>\n",
              "      <td>0.059994</td>\n",
              "      <td>00:04</td>\n",
              "    </tr>\n",
              "    <tr>\n",
              "      <td>14</td>\n",
              "      <td>0.058612</td>\n",
              "      <td>0.060235</td>\n",
              "      <td>00:03</td>\n",
              "    </tr>\n",
              "  </tbody>\n",
              "</table><p>\n",
              "\n",
              "    <div>\n",
              "        <style>\n",
              "            /* Turns off some styling */\n",
              "            progress {\n",
              "                /* gets rid of default border in Firefox and Opera. */\n",
              "                border: none;\n",
              "                /* Needs to be in here for Safari polyfill so background images work as expected. */\n",
              "                background-size: auto;\n",
              "            }\n",
              "            .progress-bar-interrupted, .progress-bar-interrupted::-webkit-progress-bar {\n",
              "                background: #F44336;\n",
              "            }\n",
              "        </style>\n",
              "      <progress value='1' class='' max='437', style='width:300px; height:20px; vertical-align: middle;'></progress>\n",
              "      0.23% [1/437 00:00<00:07 0.0587]\n",
              "    </div>\n",
              "    "
            ],
            "text/plain": [
              "<IPython.core.display.HTML object>"
            ]
          },
          "metadata": {
            "tags": []
          }
        }
      ]
    },
    {
      "cell_type": "code",
      "metadata": {
        "id": "YgCmxJGU9TZO",
        "colab_type": "code",
        "colab": {}
      },
      "source": [
        "print('best_scores = {}'.format(best_scores))\n",
        "print('best_loss = {}'.format(best_loss))"
      ],
      "execution_count": 0,
      "outputs": []
    },
    {
      "cell_type": "code",
      "metadata": {
        "id": "XMGb2-AQ1kqk",
        "colab_type": "code",
        "colab": {}
      },
      "source": [
        ""
      ],
      "execution_count": 0,
      "outputs": []
    }
  ]
}